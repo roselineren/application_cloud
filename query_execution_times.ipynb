{
 "cells": [
  {
   "cell_type": "markdown",
   "metadata": {},
   "source": [
    "# Queries"
   ]
  },
  {
   "cell_type": "code",
   "execution_count": 2,
   "metadata": {},
   "outputs": [],
   "source": [
    "import pandas as pd\n",
    "from ssh_pymongo import MongoSession"
   ]
  },
  {
   "cell_type": "code",
   "execution_count": 14,
   "metadata": {},
   "outputs": [],
   "source": [
    "session = MongoSession(\n",
    "    host='mesiin592023-00057.westeurope.cloudapp.azure.com',\n",
    "    uri='mongodb://mesiin592023-00057:30000',\n",
    "    user='administrateur',\n",
    "    password='SuperPassword!1'\n",
    ")"
   ]
  },
  {
   "cell_type": "code",
   "execution_count": 15,
   "metadata": {},
   "outputs": [],
   "source": [
    "db = session.connection['employee_db']"
   ]
  },
  {
   "cell_type": "code",
   "execution_count": 16,
   "metadata": {},
   "outputs": [],
   "source": [
    "employees = db[\"employees\"]"
   ]
  },
  {
   "cell_type": "code",
   "execution_count": null,
   "metadata": {},
   "outputs": [],
   "source": [
    "df = pd.DataFrame(employees.find())"
   ]
  },
  {
   "cell_type": "code",
   "execution_count": 17,
   "metadata": {},
   "outputs": [],
   "source": [
    "# Ru1\n",
    "pipeline_ru1 = [\n",
    "    {\"$unwind\": \"$departments\"},\n",
    "    {\"$group\": {\n",
    "        \"_id\": {\n",
    "            \"department\": \"$departments.dept_name\",\n",
    "            \"gender\": \"$gender\"\n",
    "        },\n",
    "        \"count\": {\"$sum\": 1}\n",
    "    }},\n",
    "    {\"$project\": {\n",
    "        \"department\": \"$_id.department\",\n",
    "        \"gender\": \"$_id.gender\",\n",
    "        \"count\": 1,\n",
    "        \"_id\": 0\n",
    "    }}\n",
    "]\n",
    "result_ru1 = list(db.employees.aggregate(pipeline_ru1))"
   ]
  },
  {
   "cell_type": "code",
   "execution_count": 18,
   "metadata": {},
   "outputs": [],
   "source": [
    "query_ru2 = {\n",
    "    \"birth_date\": {\"$gt\": \"1963-01-01\"}\n",
    "}\n",
    "projection_ru2 = {\n",
    "    \"_id\": 0,\n",
    "    \"first_name\": 1,\n",
    "    \"last_name\": 1,\n",
    "    \"birth_date\": 1,\n",
    "    \"departments.dept_name\": 1\n",
    "}\n",
    "result_ru2 = list(db.employees.find(query_ru2, projection_ru2))"
   ]
  },
  {
   "cell_type": "code",
   "execution_count": 19,
   "metadata": {},
   "outputs": [],
   "source": [
    "# Ru3\n",
    "query_ru3 = {\n",
    "    \"titles\": {\n",
    "        \"$not\": {\n",
    "            \"$elemMatch\": {\n",
    "                \"to_date\": \"9999-01-01\"\n",
    "            }\n",
    "        }\n",
    "    }\n",
    "}\n",
    "projection_ru3 = {\n",
    "    \"_id\": 0,\n",
    "    \"emp_no\": 1,\n",
    "    \"first_name\": 1,\n",
    "    \"last_name\": 1,\n",
    "    \"titles\": 1,\n",
    "    \"hire_date\": 1,\n",
    "    \"salaries\": 1\n",
    "}\n",
    "result_ru3 = list(db.employees.find(query_ru3, projection_ru3))"
   ]
  },
  {
   "cell_type": "code",
   "execution_count": null,
   "metadata": {},
   "outputs": [],
   "source": [
    "# # Ru4\n",
    "# pipeline_ru4 = [\n",
    "#     {\"$match\": {\"departments.is_manager\": True}},\n",
    "#     {\"$project\": {\n",
    "#         \"first_name\": 1,\n",
    "#         \"last_name\": 1,\n",
    "#         \"titles\": {\n",
    "#             \"$filter\": {\n",
    "#                 \"input\": \"$titles\",\n",
    "#                 \"as\": \"title\",\n",
    "#                 \"cond\": {\n",
    "#                     \"$eq\": [False, {\"$in\": [\"$$title.from_date\", \"$departments.from_date\"]}]\n",
    "#                 }\n",
    "#             }\n",
    "#         }\n",
    "#     }}\n",
    "# ]\n",
    "# result_ru4 = list(db.emp.aggregate(pipeline_ru4))"
   ]
  },
  {
   "cell_type": "code",
   "execution_count": 20,
   "metadata": {},
   "outputs": [],
   "source": [
    "# Ru6\n",
    "pipeline_ru6 = [\n",
    "    {\"$match\": {\"departments.dept_name\": \"Finance\"}},\n",
    "    {\"$unwind\": \"$salaries\"},\n",
    "    {\"$match\": {\"salaries.to_date\": \"9999-01-01\"}},\n",
    "    {\"$sort\": {\"salaries.salary\": -1}},\n",
    "    {\"$limit\": 3},\n",
    "    {\"$project\": {\n",
    "        \"_id\": 0,\n",
    "        \"first_name\": 1,\n",
    "        \"last_name\": 1,\n",
    "        \"salary\": \"$salaries.salary\"\n",
    "    }}\n",
    "]\n",
    "result_ru6 = list(db.employees.aggregate(pipeline_ru6))"
   ]
  },
  {
   "cell_type": "code",
   "execution_count": 21,
   "metadata": {},
   "outputs": [],
   "source": [
    "pipeline_rda1 = [\n",
    "    {\"$match\": {\"gender\": \"F\", \"departments.is_manager\": True}},\n",
    "    {\"$project\": {\n",
    "        \"hireYear\": {\"$year\": {\"$dateFromString\": {\"dateString\": \"$hire_date\"}}}\n",
    "    }},\n",
    "    {\"$group\": {\n",
    "        \"_id\": \"$hireYear\",\n",
    "        \"count\": {\"$sum\": 1}\n",
    "    }},\n",
    "    {\"$sort\": {\"_id\": 1}}\n",
    "]\n",
    "result_rda1 = list(db.employees.aggregate(pipeline_rda1))"
   ]
  },
  {
   "cell_type": "code",
   "execution_count": 22,
   "metadata": {},
   "outputs": [],
   "source": [
    "# Rda4\n",
    "pipeline_rda4 = [\n",
    "    {\"$unwind\": \"$departments\"},\n",
    "    {\"$unwind\": \"$salaries\"},\n",
    "    {\"$group\": {\n",
    "        \"_id\": \"$departments.dept_name\",\n",
    "        \"totalEmployees\": {\"$sum\": 1},\n",
    "        \"averageSalary\": {\"$avg\": \"$salaries.salary\"},\n",
    "        \"minSalary\": {\"$min\": \"$salaries.salary\"},\n",
    "        \"maxSalary\": {\"$max\": \"$salaries.salary\"}\n",
    "    }},\n",
    "    {\"$project\": {\n",
    "        \"department\": \"$_id\",\n",
    "        \"totalEmployees\": 1,\n",
    "        \"averageSalary\": 1,\n",
    "        \"minSalary\": 1,\n",
    "        \"maxSalary\": 1\n",
    "    }},\n",
    "    {\"$sort\": {\"department\": 1}}\n",
    "]\n",
    "result_rda4 = list(db.employees.aggregate(pipeline_rda4))"
   ]
  },
  {
   "cell_type": "code",
   "execution_count": 23,
   "metadata": {},
   "outputs": [],
   "source": [
    "# Rda5\n",
    "pipeline_rda5 = [\n",
    "    {\"$unwind\": \"$departments\"},\n",
    "    {\"$match\": {\"departments.dept_name\": {\"$in\": [\"Sales\", \"Marketing\"]}}},\n",
    "    {\"$unwind\": \"$salaries\"},\n",
    "    {\"$match\": {\"salaries.to_date\": \"9999-01-01\"}},\n",
    "    {\"$group\": {\n",
    "        \"_id\": \"$departments.dept_name\",\n",
    "        \"averageSalary\": {\"$avg\": \"$salaries.salary\"}\n",
    "    }},\n",
    "    {\"$project\": {\"_id\": 0, \"department\": \"$_id\", \"averageSalary\": 1}}\n",
    "]\n",
    "result_rda5 = list(db.employees.aggregate(pipeline_rda5))"
   ]
  },
  {
   "cell_type": "code",
   "execution_count": 24,
   "metadata": {},
   "outputs": [],
   "source": [
    "# Rda6\n",
    "query_rda6 = {\n",
    "    \"departments.dept_name\": \"Production\"\n",
    "}\n",
    "projection_rda6 = {\n",
    "    \"_id\": 0,\n",
    "    \"emp_no\": 1,\n",
    "    \"first_name\": 1,\n",
    "    \"last_name\": 1,\n",
    "    \"birth_date\": 1,\n",
    "    \"hire_date\": 1,\n",
    "    \"gender\": 1\n",
    "}\n",
    "result_rda6 = list(db.employees.find(query_rda6, projection_rda6))"
   ]
  },
  {
   "cell_type": "code",
   "execution_count": null,
   "metadata": {},
   "outputs": [],
   "source": [
    "# import time\n",
    "# queries = {\n",
    "#     \"ru1\": {\"method\": db.employees.aggregate, \"args\": (pipeline_ru1)},\n",
    "#     \"ru2\": {\"method\": db.employees.find, \"args\": (query_ru2, projection_ru2)},\n",
    "#     \"ru3\": {\"method\": db.employees.find, \"args\": (query_ru3, projection_ru3)},\n",
    "#     \"ru6\": {\"method\": db.employees.aggregate, \"args\": (pipeline_ru6)},\n",
    "#     \"rda1\": {\"method\": db.employees.aggregate, \"args\": (pipeline_rda1)},\n",
    "#     \"rda4\": {\"method\": db.employees.aggregate, \"args\": (pipeline_rda4)},\n",
    "#     \"rda5\": {\"method\": db.employees.aggregate, \"args\": (pipeline_rda5)},\n",
    "#     \"rda6\": {\"method\": db.employees.find, \"args\": (query_rda6, projection_rda6)}\n",
    "# }\n",
    "\n",
    "\n",
    "# for query in queries:\n",
    "#     times = []\n",
    "#     for _ in range(10):\n",
    "#         start_time = time.time()\n",
    "#         query[\"method\"]\n",
    "#         end_time = time.time()\n",
    "#         times.append(end_time - start_time)\n",
    "#     # Remove the max and min\n",
    "#     times.remove(max(times))\n",
    "#     times.remove(min(times))\n",
    "#     # Calculate the average\n",
    "#     avg_time = sum(times) / len(times)\n",
    "#     print(f\"Average execution time for {query}: {avg_time} seconds\")"
   ]
  },
  {
   "cell_type": "code",
   "execution_count": null,
   "metadata": {},
   "outputs": [],
   "source": [
    "# queries = {\n",
    "#     \"ru1\": {\"method\": db.employees.aggregate, \"args\": (pipeline_ru1)},\n",
    "#     \"ru2\": {\"method\": db.employees.find, \"args\": (query_ru2, projection_ru2)},\n",
    "#     \"ru3\": {\"method\": db.employees.find, \"args\": (query_ru3, projection_ru3)},\n",
    "#     \"ru6\": {\"method\": db.employees.aggregate, \"args\": (pipeline_ru6)},\n",
    "#     \"rda1\": {\"method\": db.employees.aggregate, \"args\": (pipeline_rda1)},\n",
    "#     \"rda4\": {\"method\": db.employees.aggregate, \"args\": (pipeline_rda4)},\n",
    "#     \"rda5\": {\"method\": db.employees.aggregate, \"args\": (pipeline_rda5)},\n",
    "#     \"rda6\": {\"method\": db.employees.find, \"args\": (query_rda6, projection_rda6)}\n",
    "# }\n",
    "\n",
    "# for query_name, query_details in queries.items():\n",
    "#     times = []\n",
    "#     for _ in range(10):\n",
    "#         start_time = time.time()\n",
    "#         # Execute the query\n",
    "#         query_details[\"method\"]\n",
    "#         end_time = time.time()\n",
    "#         times.append(end_time - start_time)\n",
    "#     # Remove the max and minzd\n",
    "#     times.remove(max(times))\n",
    "#     times.remove(min(times))\n",
    "#     # Calculate the average\n",
    "#     avg_time = sum(times) / len(times)\n",
    "#     print(f\"Average execution time for {query_name}: {avg_time} seconds\")"
   ]
  },
  {
   "cell_type": "code",
   "execution_count": 25,
   "metadata": {},
   "outputs": [],
   "source": [
    "import timeit\n",
    "\n",
    "def ru1():\n",
    "    db.employees.aggregate(pipeline_ru1)\n",
    "\n",
    "def ru2():\n",
    "    db.employees.find(query_ru2, projection_ru2)\n",
    "\n",
    "def ru3():\n",
    "    db.employees.find(query_ru3, projection_ru3)\n",
    "\n",
    "def ru6():\n",
    "    db.employees.aggregate(pipeline_ru6)\n",
    "\n",
    "def rda1():\n",
    "    db.employees.aggregate(pipeline_rda1)\n",
    "\n",
    "def rda4():\n",
    "    db.employees.aggregate(pipeline_rda4)\n",
    "\n",
    "def rda5():\n",
    "    db.employees.aggregate(pipeline_rda5)\n",
    "\n",
    "def rda6():\n",
    "    db.employees.find(query_rda6, projection_rda6)"
   ]
  },
  {
   "cell_type": "markdown",
   "metadata": {},
   "source": [
    "# 1 shard"
   ]
  },
  {
   "cell_type": "code",
   "execution_count": 26,
   "metadata": {},
   "outputs": [
    {
     "name": "stdout",
     "output_type": "stream",
     "text": [
      "Le temps d'exécution moyen pour ru1 est 0.7851978099439293 secondes.\n",
      "Le temps d'exécution moyen pour ru2 est 9.960075840353965e-06 secondes.\n",
      "Le temps d'exécution moyen pour ru3 est 9.379955008625984e-06 secondes.\n",
      "Le temps d'exécution moyen pour ru6 est 0.46284552006982266 secondes.\n",
      "Le temps d'exécution moyen pour rda1 est 0.3349408499896526 secondes.\n",
      "Le temps d'exécution moyen pour rda4 est 3.044426879985258 secondes.\n",
      "Le temps d'exécution moyen pour rda5 est 2.2756212800275533 secondes.\n",
      "Le temps d'exécution moyen pour rda6 est 9.600073099136353e-06 secondes.\n"
     ]
    }
   ],
   "source": [
    "queries = [ru1, ru2, ru3, ru6, rda1, rda4, rda5, rda6]\n",
    "\n",
    "execution_times_1shard = {}\n",
    "\n",
    "for query in queries:\n",
    "    times = timeit.repeat(query, repeat=12, number=1)\n",
    "\n",
    "    times.remove(max(times))\n",
    "    times.remove(min(times))\n",
    "\n",
    "    execution_times_1shard[query.__name__] = times\n",
    "\n",
    "    average_time = sum(times) / len(times)\n",
    "\n",
    "    print(f\"Le temps d'exécution moyen pour {query.__name__} est {average_time} secondes.\")"
   ]
  },
  {
   "cell_type": "markdown",
   "metadata": {},
   "source": [
    "# 2 shards"
   ]
  },
  {
   "cell_type": "code",
   "execution_count": 28,
   "metadata": {},
   "outputs": [
    {
     "name": "stdout",
     "output_type": "stream",
     "text": [
      "Le temps d'exécution moyen pour ru1 est 0.4629561699461192 secondes.\n",
      "Le temps d'exécution moyen pour ru2 est 1.0440032929182052e-05 secondes.\n",
      "Le temps d'exécution moyen pour ru3 est 9.029917418956756e-06 secondes.\n",
      "Le temps d'exécution moyen pour ru6 est 0.2881730099208653 secondes.\n",
      "Le temps d'exécution moyen pour rda1 est 0.18644522009417414 secondes.\n",
      "Le temps d'exécution moyen pour rda4 est 1.7745569300372153 secondes.\n",
      "Le temps d'exécution moyen pour rda5 est 1.3200086600147187 secondes.\n",
      "Le temps d'exécution moyen pour rda6 est 5.207001231610775e-05 secondes.\n"
     ]
    }
   ],
   "source": [
    "queries = [ru1, ru2, ru3, ru6, rda1, rda4, rda5, rda6]\n",
    "\n",
    "execution_times_2shard = {}\n",
    "\n",
    "for query in queries:\n",
    "    times = timeit.repeat(query, repeat=12, number=1)\n",
    "\n",
    "    times.remove(max(times))\n",
    "    times.remove(min(times))\n",
    "\n",
    "    execution_times_2shard[query.__name__] = times\n",
    "\n",
    "    average_time = sum(times) / len(times)\n",
    "\n",
    "    print(f\"Le temps d'exécution moyen pour {query.__name__} est {average_time} secondes.\")"
   ]
  },
  {
   "cell_type": "markdown",
   "metadata": {},
   "source": [
    "# 3 shards"
   ]
  },
  {
   "cell_type": "code",
   "execution_count": 29,
   "metadata": {},
   "outputs": [
    {
     "name": "stdout",
     "output_type": "stream",
     "text": [
      "Le temps d'exécution moyen pour ru1 est 0.37240829998627306 secondes.\n",
      "Le temps d'exécution moyen pour ru2 est 1.0220054537057877e-05 secondes.\n",
      "Le temps d'exécution moyen pour ru3 est 8.87005589902401e-06 secondes.\n",
      "Le temps d'exécution moyen pour ru6 est 0.2301679900381714 secondes.\n",
      "Le temps d'exécution moyen pour rda1 est 0.1484525999519974 secondes.\n",
      "Le temps d'exécution moyen pour rda4 est 1.3736435499973596 secondes.\n",
      "Le temps d'exécution moyen pour rda5 est 1.0246574100106955 secondes.\n",
      "Le temps d'exécution moyen pour rda6 est 9.24007035791874e-06 secondes.\n"
     ]
    }
   ],
   "source": [
    "queries = [ru1, ru2, ru3, ru6, rda1, rda4, rda5, rda6]\n",
    "\n",
    "execution_times_3shard = {}\n",
    "\n",
    "for query in queries:\n",
    "    times = timeit.repeat(query, repeat=12, number=1)\n",
    "\n",
    "    times.remove(max(times))\n",
    "    times.remove(min(times))\n",
    "\n",
    "    execution_times_3shard[query.__name__] = times\n",
    "\n",
    "    average_time = sum(times) / len(times)\n",
    "\n",
    "    print(f\"Le temps d'exécution moyen pour {query.__name__} est {average_time} secondes.\")"
   ]
  },
  {
   "cell_type": "markdown",
   "metadata": {},
   "source": [
    "# 4 shards"
   ]
  },
  {
   "cell_type": "code",
   "execution_count": 30,
   "metadata": {},
   "outputs": [
    {
     "name": "stdout",
     "output_type": "stream",
     "text": [
      "Le temps d'exécution moyen pour ru1 est 0.2951745401602238 secondes.\n",
      "Le temps d'exécution moyen pour ru2 est 9.569991379976273e-06 secondes.\n",
      "Le temps d'exécution moyen pour ru3 est 9.020045399665833e-06 secondes.\n",
      "Le temps d'exécution moyen pour ru6 est 0.19739240002818406 secondes.\n",
      "Le temps d'exécution moyen pour rda1 est 0.11887439005076886 secondes.\n",
      "Le temps d'exécution moyen pour rda4 est 1.0771062500309199 secondes.\n",
      "Le temps d'exécution moyen pour rda5 est 0.8096781999804079 secondes.\n",
      "Le temps d'exécution moyen pour rda6 est 9.370176121592521e-06 secondes.\n"
     ]
    }
   ],
   "source": [
    "queries = [ru1, ru2, ru3, ru6, rda1, rda4, rda5, rda6]\n",
    "\n",
    "execution_times_4shard = {}\n",
    "\n",
    "for query in queries:\n",
    "    times = timeit.repeat(query, repeat=12, number=1)\n",
    "\n",
    "    times.remove(max(times))\n",
    "    times.remove(min(times))\n",
    "\n",
    "    execution_times_4shard[query.__name__] = times\n",
    "\n",
    "    average_time = sum(times) / len(times)\n",
    "\n",
    "    print(f\"Le temps d'exécution moyen pour {query.__name__} est {average_time} secondes.\")"
   ]
  },
  {
   "cell_type": "markdown",
   "metadata": {},
   "source": [
    "# 5 shards"
   ]
  },
  {
   "cell_type": "code",
   "execution_count": 31,
   "metadata": {},
   "outputs": [
    {
     "name": "stdout",
     "output_type": "stream",
     "text": [
      "Le temps d'exécution moyen pour ru1 est 0.20991149004548787 secondes.\n",
      "Le temps d'exécution moyen pour ru2 est 9.749969467520714e-06 secondes.\n",
      "Le temps d'exécution moyen pour ru3 est 1.1759996414184571e-05 secondes.\n",
      "Le temps d'exécution moyen pour ru6 est 0.11961727999150754 secondes.\n",
      "Le temps d'exécution moyen pour rda1 est 0.08920738999731839 secondes.\n",
      "Le temps d'exécution moyen pour rda4 est 0.6992022800724953 secondes.\n",
      "Le temps d'exécution moyen pour rda5 est 0.5451671400107443 secondes.\n",
      "Le temps d'exécution moyen pour rda6 est 1.5190104022622108e-05 secondes.\n"
     ]
    }
   ],
   "source": [
    "queries = [ru1, ru2, ru3, ru6, rda1, rda4, rda5, rda6]\n",
    "\n",
    "execution_times_5shard = {}\n",
    "\n",
    "for query in queries:\n",
    "    times = timeit.repeat(query, repeat=12, number=1)\n",
    "\n",
    "    times.remove(max(times))\n",
    "    times.remove(min(times))\n",
    "\n",
    "    execution_times_5shard[query.__name__] = times\n",
    "\n",
    "    average_time = sum(times) / len(times)\n",
    "\n",
    "    print(f\"Le temps d'exécution moyen pour {query.__name__} est {average_time} secondes.\")"
   ]
  },
  {
   "cell_type": "markdown",
   "metadata": {},
   "source": [
    "# 6 shards"
   ]
  },
  {
   "cell_type": "code",
   "execution_count": 32,
   "metadata": {},
   "outputs": [
    {
     "name": "stdout",
     "output_type": "stream",
     "text": [
      "Le temps d'exécution moyen pour ru1 est 0.21108532017096876 secondes.\n",
      "Le temps d'exécution moyen pour ru2 est 1.3739988207817078e-05 secondes.\n",
      "Le temps d'exécution moyen pour ru3 est 1.588999293744564e-05 secondes.\n",
      "Le temps d'exécution moyen pour ru6 est 0.11040642005391418 secondes.\n",
      "Le temps d'exécution moyen pour rda1 est 0.07599386996589601 secondes.\n",
      "Le temps d'exécution moyen pour rda4 est 0.6598649200052022 secondes.\n",
      "Le temps d'exécution moyen pour rda5 est 0.49941287995316086 secondes.\n",
      "Le temps d'exécution moyen pour rda6 est 9.110011160373687e-06 secondes.\n"
     ]
    }
   ],
   "source": [
    "queries = [ru1, ru2, ru3, ru6, rda1, rda4, rda5, rda6]\n",
    "\n",
    "execution_times_6shard = {}\n",
    "\n",
    "for query in queries:\n",
    "    times = timeit.repeat(query, repeat=12, number=1)\n",
    "\n",
    "    times.remove(max(times))\n",
    "    times.remove(min(times))\n",
    "\n",
    "    execution_times_6shard[query.__name__] = times\n",
    "\n",
    "    average_time = sum(times) / len(times)\n",
    "\n",
    "    print(f\"Le temps d'exécution moyen pour {query.__name__} est {average_time} secondes.\")"
   ]
  },
  {
   "cell_type": "markdown",
   "metadata": {},
   "source": [
    "# Sauvegarde"
   ]
  },
  {
   "cell_type": "code",
   "execution_count": 1,
   "metadata": {},
   "outputs": [],
   "source": [
    "import pickle"
   ]
  },
  {
   "cell_type": "code",
   "execution_count": 34,
   "metadata": {},
   "outputs": [],
   "source": [
    "with open('dictionaries.pkl', 'wb') as f:\n",
    "    pickle.dump([execution_times_1shard, execution_times_2shard, execution_times_3shard, \n",
    "                 execution_times_4shard, execution_times_5shard, execution_times_6shard], f)"
   ]
  },
  {
   "cell_type": "code",
   "execution_count": 2,
   "metadata": {},
   "outputs": [],
   "source": [
    "with open('dictionaries.pkl', 'rb') as f:\n",
    "    execution_times_1shard, execution_times_2shard, execution_times_3shard, execution_times_4shard, execution_times_5shard, execution_times_6shard = pickle.load(f)"
   ]
  },
  {
   "cell_type": "markdown",
   "metadata": {},
   "source": [
    "# Plot"
   ]
  },
  {
   "cell_type": "code",
   "execution_count": null,
   "metadata": {},
   "outputs": [],
   "source": [
    "import matplotlib.pyplot as plt\n",
    "\n",
    "queries = ['ru1', 'ru2', 'ru3', 'ru6', 'rda1', 'rda4', 'rda5', 'rda6']\n",
    "\n",
    "for query in queries:\n",
    "    plt.plot(execution_times_1shard[query], label='execution_times_1shard')\n",
    "    plt.plot(execution_times_2shard[query], label='execution_times_2shard')\n",
    "    plt.plot(execution_times_3shard[query], label='execution_times_3shard')\n",
    "    plt.plot(execution_times_4shard[query], label='execution_times_4shard')\n",
    "    plt.plot(execution_times_5shard[query], label='execution_times_5shard')\n",
    "    plt.plot(execution_times_6shard[query], label='execution_times_6shard')\n",
    "\n",
    "    plt.title(f'Comparison of {query} execution times on different configurations')\n",
    "    plt.xlabel('Index')\n",
    "    plt.ylabel('Values')\n",
    "    plt.legend()\n",
    "    plt.show()"
   ]
  }
 ],
 "metadata": {
  "kernelspec": {
   "display_name": "appcloud",
   "language": "python",
   "name": "python3"
  },
  "language_info": {
   "codemirror_mode": {
    "name": "ipython",
    "version": 3
   },
   "file_extension": ".py",
   "mimetype": "text/x-python",
   "name": "python",
   "nbconvert_exporter": "python",
   "pygments_lexer": "ipython3",
   "version": "3.10.11"
  }
 },
 "nbformat": 4,
 "nbformat_minor": 2
}
